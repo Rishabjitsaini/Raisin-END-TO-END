{
 "cells": [
  {
   "cell_type": "code",
   "execution_count": 14,
   "id": "be55cdb0-364c-4e60-9f09-4209eb72bcc0",
   "metadata": {},
   "outputs": [],
   "source": [
    "import requests"
   ]
  },
  {
   "cell_type": "code",
   "execution_count": 15,
   "id": "9bcd4585-3e50-4942-b015-c37d92b8e89d",
   "metadata": {},
   "outputs": [],
   "source": [
    "url = 'http://127.0.0.1:5000'"
   ]
  },
  {
   "cell_type": "code",
   "execution_count": 16,
   "id": "0e1bbecc-b935-4cc3-abd1-1ac85d894e8b",
   "metadata": {},
   "outputs": [],
   "source": [
    "data = {\n",
    "    \"Area\": 1000,\n",
    "    \"MajorAxisLength\": 50,\n",
    "    \"MinorAxisLength\": 30,\n",
    "    \"Eccentricity\": 0.9,\n",
    "    \"ConvexArea\": 1200,\n",
    "    \"Extent\": 0.8,\n",
    "    \"Perimeter\": 150\n",
    "}"
   ]
  },
  {
   "cell_type": "code",
   "execution_count": 17,
   "id": "abf2962b-a1fd-4669-a45d-183f4bacd2bd",
   "metadata": {},
   "outputs": [
    {
     "name": "stdout",
     "output_type": "stream",
     "text": [
      "Response from Flask app:\n",
      "Error: Expecting value: line 1 column 1 (char 0)\n"
     ]
    }
   ],
   "source": [
    "\n",
    "\n",
    "try:\n",
    "    response = requests.post(url, json=data)\n",
    "    print(\"Response from Flask app:\")\n",
    "    print(response.json())\n",
    "except requests.exceptions.RequestException as e:\n",
    "    print(f\"Error: {e}\")\n"
   ]
  },
  {
   "cell_type": "code",
   "execution_count": null,
   "id": "dff0b940-eaaf-435b-ae1f-b8f540108550",
   "metadata": {},
   "outputs": [],
   "source": []
  }
 ],
 "metadata": {
  "kernelspec": {
   "display_name": "Python 3 (ipykernel)",
   "language": "python",
   "name": "python3"
  },
  "language_info": {
   "codemirror_mode": {
    "name": "ipython",
    "version": 3
   },
   "file_extension": ".py",
   "mimetype": "text/x-python",
   "name": "python",
   "nbconvert_exporter": "python",
   "pygments_lexer": "ipython3",
   "version": "3.11.7"
  }
 },
 "nbformat": 4,
 "nbformat_minor": 5
}
